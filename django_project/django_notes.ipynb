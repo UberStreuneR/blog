{
 "cells": [
  {
   "cell_type": "code",
   "execution_count": null,
   "metadata": {
    "collapsed": true
   },
   "outputs": [],
   "source": [
    "# Запуск сервера в cmd: manage.py runserver"
   ]
  },
  {
   "cell_type": "code",
   "execution_count": null,
   "outputs": [],
   "source": [
    "# Создание нового приложения: manage.py startapp *name*"
   ],
   "metadata": {
    "collapsed": false,
    "pycharm": {
     "name": "#%%\n"
    }
   }
  },
  {
   "cell_type": "code",
   "execution_count": null,
   "outputs": [],
   "source": [
    "# urls.py -- map the urls that we want to correspond to each\n",
    "# view function\n",
    "# functions from views.py are mapped in urls.py urlpatterns"
   ],
   "metadata": {
    "collapsed": false,
    "pycharm": {
     "name": "#%%\n"
    }
   }
  },
  {
   "cell_type": "code",
   "execution_count": null,
   "outputs": [],
   "source": [
    "# from django.urls import include\n",
    "# Позволяет импортировать функции, например\n",
    "# при переходе по /blog будет использоваться\n",
    "# blog.urls.py если прописать \n",
    "# path('blog/', include('blog.urls'))\n",
    "# в urlpatterns в urls.py проекта\n",
    "# При этом blog/ откусывается от строки поиска"
   ],
   "metadata": {
    "collapsed": false,
    "pycharm": {
     "name": "#%%\n"
    }
   }
  },
  {
   "cell_type": "code",
   "execution_count": null,
   "outputs": [],
   "source": [
    "# templates директория содержит папки, соответствующие\n",
    "# аппликациям в проекте (например, blog),\n",
    "# в которых лежат .html файлы шаблонов\n",
    "# для аппликаций. Эти файлы используются в\n",
    "# render() в views.py для приложения"
   ],
   "metadata": {
    "collapsed": false,
    "pycharm": {
     "name": "#%%\n"
    }
   }
  },
  {
   "cell_type": "code",
   "execution_count": null,
   "outputs": [],
   "source": [
    "# В apps.py для приложения содержится класс, имя которого\n",
    "# нужно добавить в settings.py файл всего проекта в лист\n",
    "# INSTALLED_APPS в виде '*имя_аппл*.apps.*имя_класса*',\n",
    "# например 'blog.apps.BlogConfig'. После этого Django\n",
    "# может там искать шаблоны."
   ],
   "metadata": {
    "collapsed": false,
    "pycharm": {
     "name": "#%%\n"
    }
   }
  },
  {
   "cell_type": "code",
   "execution_count": null,
   "outputs": [],
   "source": [
    "# Шаблоны рендерятся с помощью функции render в views.py\n",
    "# для приложения. Функция в views.py возвращает\n",
    "# функцию render с шаблоном в виде\n",
    "# return render(request, '*имя_аппл_в_дир_шаблонов*/*имя_шаблона*)\n",
    "# например render(request, 'blog/home.html')"
   ],
   "metadata": {
    "collapsed": false,
    "pycharm": {
     "name": "#%%\n"
    }
   }
  },
  {
   "cell_type": "code",
   "execution_count": null,
   "outputs": [],
   "source": [
    "# В шаблоны можно загрузить информацию, добавляя словарь в \n",
    "# третий параметр функции render для какого-либо view.\n",
    "# Потом в соотв. шаблоне можно использовать информацию \n",
    "# через движок выполнений Python кода в html файлах.\n",
    "# Цикл for: {% for post in posts %} .... {% endfor %}\n",
    "# Переменная: {{ post.author }}\n",
    "# При условии что posts есть в переданном в render словаре\n"
   ],
   "metadata": {
    "collapsed": false,
    "pycharm": {
     "name": "#%%\n"
    }
   }
  },
  {
   "cell_type": "code",
   "execution_count": null,
   "outputs": [],
   "source": [
    "# Template Inheritance:\n",
    "# Базовый шаблон можно использовать, указав в нем блок контента,\n",
    "# который будет дополняться, а в дочерних шаблонах прописать:\n",
    "# {% extends \"*имя_аппл*/*базовый_шаблон*.html\" %}\n",
    "# {% *имя_заменяемого_блока* %}\n",
    "# .............................\n",
    "# {% endblock *имя_заменяемого_блока* %}\n",
    "\n",
    "# Пример:\n",
    "# В базовом шаблоне (base.html):\n",
    "# <body>\n",
    "#     {% block content%}{% endblock %}\n",
    "# </body>\n",
    "# В дочернем шаблоне:\n",
    "# {% extends \"blog/base.html\" %}\n",
    "# {% block content %}\n",
    "#     {% for post in posts %}\n",
    "#         <h1>{{ post.title }}</h1>\n",
    "#         <p>By {{ post.author}} on {{ post.date_posted }}</p>\n",
    "#         <p>{{ post.content }}</p>\n",
    "#     {% endfor %}\n",
    "# {% endblock content %}"
   ],
   "metadata": {
    "collapsed": false,
    "pycharm": {
     "name": "#%%\n"
    }
   }
  },
  {
   "cell_type": "code",
   "execution_count": null,
   "outputs": [],
   "source": [
    "# Параметр name в urlpatterns для конкретной аппликации можно\n",
    "# использовать в атрибуте href в шаблонах так:\n",
    "# href=\"{% url 'blog-home' %}\""
   ],
   "metadata": {
    "collapsed": false,
    "pycharm": {
     "name": "#%%\n"
    }
   }
  },
  {
   "cell_type": "code",
   "execution_count": null,
   "outputs": [],
   "source": [
    "# Создание админа в cmd: manage.py createsuperuser \n",
    "# Однако нужно сначала создать базу данных:\n",
    "# manage.py makemigrations\n",
    "# manage.py migrate\n",
    "# После этого можно создать админа"
   ],
   "metadata": {
    "collapsed": false,
    "pycharm": {
     "name": "#%%\n"
    }
   }
  },
  {
   "cell_type": "code",
   "execution_count": null,
   "outputs": [],
   "source": [
    "# ORM -- Object Relational Mapper\n",
    "# Позволяет получить доступ к базам данных в\n",
    "# объектно-ориентированном виде. Классы в ORM называются\n",
    "# моделями (models.py). Они наследуются от django.db.models.Model\n",
    "# Поля класса являются столбцами в базе данных, тип данных\n",
    "# в столбце определяется как models.*тип*, например,\n",
    "# models.CharField(max_length=50) -- поле символов длиной не \n",
    "# больше 50. models.TextField неограничено в кол-ве символов\n",
    "# models.DateTimeField() -- дата, атрибут auto_now_add=True\n",
    "# позволит установить дату поста ТОЛЬКО когда он был создан.\n",
    "# auto_now=True ставит текущую дату при любом обновлении."
   ],
   "metadata": {
    "collapsed": false,
    "pycharm": {
     "name": "#%%\n"
    }
   }
  },
  {
   "cell_type": "code",
   "execution_count": null,
   "outputs": [],
   "source": [
    "# Также ORM позволяет использовать timezone: \n",
    "# from django.utils import timezone\n",
    "# User -- отдельная таблица, его модель импортируется как:\n",
    "# from django.contrib.auth.models import User\n",
    "# Используется как:\n",
    "# author = models.ForeignKey(User, on_delete=models.CASCADE)\n",
    "# models.ForeignKey устанавливает отношение один-к-нескольким\n",
    "# между моделью User и моделью Post. \n",
    "# Аргумент on_delete=models.CASCADE\n",
    "# удаляет пост, если его автор был удалён."
   ],
   "metadata": {
    "collapsed": false,
    "pycharm": {
     "name": "#%%\n"
    }
   }
  },
  {
   "cell_type": "code",
   "execution_count": null,
   "outputs": [],
   "source": [
    "# manage.py makemigrations создает миграцию, то есть объем\n",
    "# команд, которые будут выполнены в базе данных при вводе\n",
    "# manage.py migrate. Посмотреть SQL код в миграции можно, если\n",
    "# вбить manage.py sqlmigrate *имя_аппл* *номер_миграции*\n",
    "# например manage.py sqlmigrate blog 0001.\n",
    "# По сути Django прописывает SQL код для моделей в models.py\n",
    "# за нас."
   ],
   "metadata": {
    "collapsed": false,
    "pycharm": {
     "name": "#%%\n"
    }
   }
  },
  {
   "cell_type": "code",
   "execution_count": null,
   "outputs": [],
   "source": [
    "# С базой данных Django можно взаимодействовать через\n",
    "# Django командную строку: manage.py shell\n",
    "# В ней можно импортировать модели:\n",
    "# from blog.models import Post (models.py апплик. blog)\n",
    "# from django.contrib.auth.models import User\n",
    "# Далее по команде User.objects.all() можно получить список\n",
    "# всех пользователей. User.objects.first() возвращает\n",
    "# первого юзера. User.objects.last() возвращает последнего\n",
    "# юзера. User.objects.filter() фильтрует список объектов,\n",
    "# например, через параметр username='RedHessian'. Применение\n",
    "# метода .first после .filter() вернет первого юзера, а не \n",
    "# QuerySet\n",
    "\n",
    "# Объект еще можно получить так:\n",
    "# user = User.objects.get(id=1)"
   ],
   "metadata": {
    "collapsed": false,
    "pycharm": {
     "name": "#%%\n"
    }
   }
  },
  {
   "cell_type": "code",
   "execution_count": null,
   "outputs": [],
   "source": [
    "# Получив юзера, можно записать его в переменную и смотреть его\n",
    "# атрибуты:\n",
    "# user = User.objects.filter(username='RedHessian').first()\n",
    "# user.id //1\n",
    "# user.pk //1 primary key\n",
    "# \n"
   ],
   "metadata": {
    "collapsed": false,
    "pycharm": {
     "name": "#%%\n"
    }
   }
  },
  {
   "cell_type": "code",
   "execution_count": null,
   "outputs": [],
   "source": [
    "# Объект модели можно создать:\n",
    "# post_1 = Post(title='Blog 1', content='First Post Content!', author=user)\n",
    "# Чтобы его было видно в базе данных: post_1.save()\n",
    "# То, что видно по команде Post.objects.all() можно поменять,\n",
    "# прописав __str__ метод в модели Post. \n",
    "#     def __str__(self):\n",
    "#        return self.title\n",
    "# Юзера для объекта модели Post можно указать через id:\n",
    "# post_2 = Post(title='Blog 2', content='Second Post Content!', author_id=user.id)"
   ],
   "metadata": {
    "collapsed": false,
    "pycharm": {
     "name": "#%%\n"
    }
   }
  },
  {
   "cell_type": "code",
   "execution_count": null,
   "outputs": [],
   "source": [
    "# Отношение между моделями можно пронаблюдать через команду\n",
    "# .*имя_модели*_set. Приписав в конце .all(), можно увидеть все\n",
    "# соединения для объекта. Например:\n",
    "# user.post_set.all() //<QuerySet [<Post: Blog 1>, <Post: Blog 2>]>\n",
    "# Можно создать новую связь таким образом:\n",
    "# user.post_set.create(title='Blog 3', content='Third Post Content!')\n"
   ],
   "metadata": {
    "collapsed": false,
    "pycharm": {
     "name": "#%%\n"
    }
   }
  },
  {
   "cell_type": "code",
   "execution_count": null,
   "outputs": [],
   "source": [
    "# Объекты модели можно использовать в views.py, импортировав\n",
    "# модель: from .models import Post\n",
    "# И далее можно писать запросы к текущей sqlite базе данных\n",
    "# так:\n",
    "# Post.objects.all()\n"
   ],
   "metadata": {
    "collapsed": false,
    "pycharm": {
     "name": "#%%\n"
    }
   }
  },
  {
   "cell_type": "code",
   "execution_count": null,
   "outputs": [],
   "source": [
    "# Дату в шаблонах можно редактировать:\n",
    "# post.date_posted|date:\"F d, Y\"\n",
    "# Фильтры для даты в Django: https://docs.djangoproject.com/en/2.0/ref/templates/builtins/#date"
   ],
   "metadata": {
    "collapsed": false,
    "pycharm": {
     "name": "#%%\n"
    }
   }
  },
  {
   "cell_type": "code",
   "execution_count": null,
   "outputs": [],
   "source": [
    "# Чтобы зарегистрировать модель в админке нужно импортировать\n",
    "# ее в admin.py и добавить: admin.site.register(*имя_модели*)\n",
    "# ОБЯЗАТЕЛЬНЫЙ ШАГ, ЧТОБЫ ПОЛЬЗОВАТЬСЯ МОДЕЛЬЮ"
   ],
   "metadata": {
    "collapsed": false,
    "pycharm": {
     "name": "#%%\n"
    }
   }
  },
  {
   "cell_type": "code",
   "execution_count": null,
   "outputs": [],
   "source": [
    "# Форму регистрации можно импортировать:\n",
    "# from django.contrib.auth.forms import UserCreationForm\n",
    "# Далее она используется во view-функции и передается как\n",
    "# третий параметр в render():\n",
    "#    form = UserCreationForm()\n",
    "#    return render(request, 'users/register.html', {'form': form})\n",
    "# Эта форма потом используется в шаблоне так:\n",
    "# {{ form.as_p }} // .as_p не обязательно, просто разделяет\n",
    "# на параграфы, лучше видно\n",
    "# Также в шаблоне можно прописать команду {% csrf_token %},\n",
    "# которая защищает форму от неблагоприятных атак.\n",
    "# "
   ],
   "metadata": {
    "collapsed": false,
    "pycharm": {
     "name": "#%%\n"
    }
   }
  },
  {
   "cell_type": "code",
   "execution_count": null,
   "outputs": [],
   "source": [
    "# Шаблоны можно импортировать даже из других аппликаций:\n",
    "# Например, # Например, {% extends \"blog/base.html\" %} \n",
    "# может быть использовано в шаблоне users/register.html\n",
    "\n",
    "\n"
   ],
   "metadata": {
    "collapsed": false,
    "pycharm": {
     "name": "#%%\n"
    }
   }
  },
  {
   "cell_type": "code",
   "execution_count": null,
   "outputs": [],
   "source": [
    "# Чтобы можно было принять регистрационную \n",
    "# форму (UserCreationForm), параметром\n",
    "# при создании формы надо передать request.POST. Если форма\n",
    "# заполнена правильно (form.is_valid() == True), дата из \n",
    "# формы будет в словаре form.cleaned_data, которую можно\n",
    "# получить по методу .get()\n",
    "# Сохранить пользователя можно прописав после условия \n",
    "# валидности: form.save()"
   ],
   "metadata": {
    "collapsed": false,
    "pycharm": {
     "name": "#%%\n"
    }
   }
  },
  {
   "cell_type": "code",
   "execution_count": null,
   "outputs": [],
   "source": [
    "# В Django есть сообщения:\n",
    "# from django.contrib import messages\n",
    "# messages.success\n",
    "# messages.info\n",
    "# messages.error\n",
    "# messages.warning\n",
    "# messages.debug\n",
    "# Используются так: messages.success(request, \"*сообщение*\")\n",
    "# Можно использовать в .html шаблонах, например так:\n",
    "# {% if messages %}\n",
    "#     {% for message in messages%}\n",
    "#         <div class=\"alert alert-{{ message.tags }}\">\n",
    "#             {{ message }}\n",
    "#         </div>\n",
    "#     {% endfor %}\n",
    "# {% endif %}\n",
    "# message.tags будет success/info/error/warning/debug,\n",
    "# удобно для подбора нужного вида в bootstrap\n"
   ],
   "metadata": {
    "collapsed": false,
    "pycharm": {
     "name": "#%%\n"
    }
   }
  },
  {
   "cell_type": "code",
   "execution_count": null,
   "outputs": [],
   "source": [
    "# Функция redirect (from django.shortcuts import redirect)\n",
    "# производит редирекцию\n",
    "# Используется так: return redirect('*ссылка_из_urls.py*')\n",
    "# Например: return redirect('blog-home')"
   ],
   "metadata": {
    "collapsed": false,
    "pycharm": {
     "name": "#%%\n"
    }
   }
  },
  {
   "cell_type": "code",
   "execution_count": null,
   "outputs": [],
   "source": [
    "# Чтобы изменить дефолтную форму создания пользователя,\n",
    "# нужно создать файл forms.py (просто хорошая практика),\n",
    "# в нем импортировать формы, модель и форму регистрации.\n",
    "# Создать класс, наследующийся от формы регистрации,\n",
    "# в нем инициализировать дополнительное поле, если нужно,\n",
    "# например, email. Создать внутренний класс Meta, в нем поле\n",
    "# model (именно такое) объявляется как User, а поле fields\n",
    "# содержит список того, что будет отображаться в форме. Далее\n",
    "# внешний класс импортируется во view функцию. Пример:\n",
    "# from django import forms\n",
    "# from django.contrib.auth.models import User\n",
    "# from django.contrib.auth.forms import UserCreationForm\n",
    "# \n",
    "# class UserRegisterForm(UserCreationForm):\n",
    "#     email = forms.EmailField()\n",
    "# \n",
    "#     class Meta:\n",
    "#         model = User\n",
    "#         fields = ['username', 'email', 'password1', 'password2']"
   ],
   "metadata": {
    "collapsed": false,
    "pycharm": {
     "name": "#%%\n"
    }
   }
  },
  {
   "cell_type": "code",
   "execution_count": null,
   "outputs": [],
   "source": [
    "# Чтобы кликабельная ссылка не добавлялась к самой себе \n",
    "# (localhost:8000/register/register/register), нужно в html\n",
    "# теге в поле href добавить слэш перед ней.\n",
    "# <a class=\"nav-item nav-link\" href=\"/register\">Register</a>\n",
    "# Или просто в href указать {% url '*имя*' %}"
   ],
   "metadata": {
    "collapsed": false,
    "pycharm": {
     "name": "#%%\n"
    }
   }
  },
  {
   "cell_type": "code",
   "execution_count": null,
   "outputs": [],
   "source": [
    "# Django crispy-forms устанавливается как:\n",
    "# pip install django-crispy-forms\n",
    "# После чего нужно в settings.py в \n",
    "# INSTALLED_APPS добавить 'crispy_forms'\n",
    "# В конце файла добавить строку \n",
    "# CRISPY_TEMPLATE_PACK = 'bootstrap4'\n",
    "# В файле шаблона прописать {% load crispy_forms_tags %}\n",
    "# после экстенда. В шаблоне при вызове формы добавить тэг crispy\n",
    "# Пример: {{ form|crispy }}"
   ],
   "metadata": {
    "collapsed": false,
    "pycharm": {
     "name": "#%%\n"
    }
   }
  },
  {
   "cell_type": "code",
   "execution_count": null,
   "outputs": [],
   "source": [
    "# В Django есть встроенные формы входа и выхода.\n",
    "# В urls.py проекта импортируются views:\n",
    "# from django.contrib.auth import views as auth_views\n",
    "# url-паттерны прописываются так:\n",
    "#    path('login/', auth_views.LoginView.as_view(template_name='users/login.html'), name='login'),\n",
    "#    path('logout/', auth_views.LogoutView.as_view(template_name='users/logout.html'), name='logout'),\n",
    "# template_name указывает Django, где искать шаблоны."
   ],
   "metadata": {
    "collapsed": false,
    "pycharm": {
     "name": "#%%\n"
    }
   }
  },
  {
   "cell_type": "code",
   "execution_count": null,
   "outputs": [],
   "source": [
    "# Редирект юзера после входа можно прописать в settings.py \n",
    "# командой LOGIN_REDIRECT_URL = '*имя*'\n"
   ],
   "metadata": {
    "collapsed": false,
    "pycharm": {
     "name": "#%%\n"
    }
   }
  },
  {
   "cell_type": "code",
   "execution_count": null,
   "outputs": [],
   "source": [
    "# В Django можно проверить вошел ли пользователь, использовав\n",
    "# условие {% if user.is_authenticated %}\n",
    "# {{ user.username }} вернет имя пользователя\n",
    "# Для проверки логина во views можно использовать декоратор из\n",
    "# from django.contrib.auth.decorators import login_required,\n",
    "# который прописывается перед view функцией, для которой необходима\n",
    "# проверка: @login_required. Чтобы редирект прошел успешно, в \n",
    "# settings.py нужно добавить строку \n",
    "# LOGIN_URL = 'login'"
   ],
   "metadata": {
    "collapsed": false,
    "pycharm": {
     "name": "#%%\n"
    }
   }
  },
  {
   "cell_type": "code",
   "execution_count": null,
   "outputs": [],
   "source": [
    "# Отношение один-к-одному прописывается так:\n",
    "# class Profile(models.Model):\n",
    "#    user = models.OneToOneField(User, on_delete=models.CASCADE)\n",
    "# .CASCADE удаляет профиль при удалении юзера\n",
    "# Чтобы сохранить изменения в модели, нужно создать миграцию\n",
    "# manage.py makemigrations и запустить их\n",
    "# manage.py migrate\n",
    "\n",
    "# Поле изображений для модели прописывается так:\n",
    "# image = models.ImageField(default='default.jpg', upload_to='profile_pics')\n",
    "# Для работы нужен установленный Pillow"
   ],
   "metadata": {
    "collapsed": false,
    "pycharm": {
     "name": "#%%\n"
    }
   }
  },
  {
   "cell_type": "code",
   "execution_count": null,
   "outputs": [],
   "source": [
    "# Если у двух моделей отношение один-к-одному, можно получить атрибуты\n",
    "# одного через другого. Например, если у User есть отношение с Profile,\n",
    "# а у Profile есть атрибут image, то доступ к изображению можно получить:\n",
    "# user.profile.image, user.profile.image.url (адрес), user.profile.image.width/height/size\n",
    "# Изображения с одинаковыми названиями не переписывают друг друга. \n",
    "# Django присваивает hash-значение, чтобы избежать двойственности."
   ],
   "metadata": {
    "collapsed": false,
    "pycharm": {
     "name": "#%%\n"
    }
   }
  },
  {
   "cell_type": "code",
   "execution_count": null,
   "outputs": [],
   "source": [
    "# MEDIA_ROOT = '' в settings.py указывает Django полный путь, где ему сохранять загруженные файлы\n",
    "# т.е. где загруженные файлы будут храниться в файловой системе\n",
    "# MEDIA_ROOT = os.path.join(BASE_DIR, 'media') создаст в директории проекта папку media, \n",
    "# в которой будет папка profile_pics\n",
    "# MEDIA_URL = '/media/' путь, по которому можно будет получить доступ к изображению\n",
    "# в браузере\n",
    "# Если у профилей поменялись какие-то свойства, т.е. они были созданы до изменения в пути файлов (например),\n",
    "# то их нужно пересоздать, иначе изменение не возымеет действия.\n"
   ],
   "metadata": {
    "collapsed": false,
    "pycharm": {
     "name": "#%%\n"
    }
   }
  },
  {
   "cell_type": "code",
   "execution_count": null,
   "outputs": [],
   "source": [
    "# Для работы со статическими файлами ВО ВРЕМЯ РАЗРАБОТКИ (не после выгрузки)\n",
    "# нужно прописать работу со статическими файлами в urls.py проекта:\n",
    "# from django.conf import settings\n",
    "# from django.conf.urls.static import static\n",
    "# if settings.DEBUG: (проверка, что сервер в режиме debug)\n",
    "#    urlpatterns += static(settings.MEDIA_URL, document_root=settings.MEDIA_ROOT)"
   ],
   "metadata": {
    "collapsed": false,
    "pycharm": {
     "name": "#%%\n"
    }
   }
  },
  {
   "cell_type": "code",
   "execution_count": null,
   "outputs": [],
   "source": [
    "# Для передачи сигналов в аппликации создается файл signals.py\n",
    "# Сигнал post_save загорается после сохранения объекта.\n",
    "# from django.db.models.signals import post_save\n",
    "# Для привязки создания юзера к созданию профиля прописываем:\n",
    "# from django.contrib.auth.models import User\n",
    "# from django.dispatch import receiver\n",
    "# from .models import Profile\n",
    "# @receiver(post_save, sender=User)\n",
    "# def create_profile(sender, instance, created, **kwargs):\n",
    "#     if created:\n",
    "#         Profile.objects.create(user=instance)\n",
    "# Код работает так: когда User отправляет сигнал post_save, т.е. когда\n",
    "# он сохраняется, вызывается получаетель (create_profile), принимающий\n",
    "# аргументы, отправляемые сигналом post_save, один из них -- instance,\n",
    "# т.е. юзер, с которым Django имеет дело. Параметр created говорит о том,\n",
    "# что юзер был создан, тогда для модели Profile создаем объект,\n",
    "# привязанный к юзеру, отправившему сигнал\n",
    "# Также нужно в apps.py для приложения в конфиг-классе создать\n",
    "# def ready(self):\n",
    "#     import users.signals\n",
    "# Аналогично по сигналу работает сохранение профиля:\n",
    "# @receiver(post_save, sender=User)\n",
    "# def save_profile(sender, instance, **kwargs):\n",
    "#     instance.profile.save()\n"
   ],
   "metadata": {
    "collapsed": false,
    "pycharm": {
     "name": "#%%\n"
    }
   }
  },
  {
   "cell_type": "code",
   "execution_count": null,
   "outputs": [],
   "source": [
    "# Для правильной передачи данных в формах (изображения), нужно в теге <form>\n",
    "# параметром прописать enctype=\"multipart/form-data\":\n",
    "# <form method=\"POST\" enctype=\"multipart/form-data\">\n",
    "# Иначе дата не будет загружаться должным образом!"
   ],
   "metadata": {
    "collapsed": false,
    "pycharm": {
     "name": "#%%\n"
    }
   }
  },
  {
   "cell_type": "code",
   "execution_count": null,
   "outputs": [],
   "source": [
    "# Форма, работающая с моделью, создается так:\n",
    "# class UserUpdateForm(forms.ModelForm):\n",
    "#    email = forms.EmailField()\n",
    "# \n",
    "#    class Meta:\n",
    "#        model = User\n",
    "#        fields = ['username', 'email']\n",
    "# т.е., наследуется от forms.ModelForm\n",
    "# Эти формы потом создаются, и если их нужно заполнить по дефолту,\n",
    "# то это можно сделать, передав параметр instance=request.user\n",
    "# или instance=request.user.profile:\n",
    "# u_form = UserUpdateForm(instance=request.user)\n",
    "# p_form = ProfileUpdateForm(instance=request.user.profile)"
   ],
   "metadata": {
    "collapsed": false,
    "pycharm": {
     "name": "#%%\n"
    }
   }
  },
  {
   "cell_type": "code",
   "execution_count": null,
   "outputs": [],
   "source": [
    "# Формы также принимают параметры request.POST и, если отправляется изображение,\n",
    "# request.FILES"
   ],
   "metadata": {
    "collapsed": false,
    "pycharm": {
     "name": "#%%\n"
    }
   }
  },
  {
   "cell_type": "code",
   "execution_count": null,
   "outputs": [],
   "source": [
    "# Ресайз изображений. Для модели, в которой есть изображение, \n",
    "# можно переписать метод save(self), который есть в models.Model:\n",
    "#     def save(self):\n",
    "#        super().save() //вызывает родительский метод save\n",
    "#        img = Image.open(self.image.path) //открывает изображение по его пути\n",
    "#        if img.height > 300 or img.width > 300: \n",
    "#            output_size = (300, 300) //кортеж максимальных размеров ширины и высоты\n",
    "#            img.thumbnail(output_size) //создает маленькую картинку размером не больше output_size\n",
    "#            img.save(self.image.path) \n"
   ],
   "metadata": {
    "collapsed": false,
    "pycharm": {
     "name": "#%%\n"
    }
   }
  },
  {
   "cell_type": "code",
   "execution_count": null,
   "outputs": [],
   "source": [
    "# В Django есть class-based view структуры, базирующиеся на моделях. Они работают\n",
    "# почти как view-функции. Использовать можно так:\n",
    "# from django.views.generic import ListView\n",
    "# class PostListView(ListView):\n",
    "#    model = Post\n",
    "#    template_name = 'blog/home.html' //имя шаблона\n",
    "#    context_object_name = 'posts' //через что итерация?\n",
    "#    ordering = ['-date_posted'] //сортировка по дате (- в начале --> в обратном порядке)\n",
    "# В urls.py импортируем класс: from .views import PostListView\n",
    "# Заменяем view-функцию на class-view:\n",
    "# path('', PostListView.as_view(), name='blog-home'),\n",
    "# ListView показывает лист объектов для модели, например, все посты"
   ],
   "metadata": {
    "collapsed": false,
    "pycharm": {
     "name": "#%%\n"
    }
   }
  },
  {
   "cell_type": "code",
   "execution_count": null,
   "outputs": [],
   "source": [
    "# DetailView. Импортируется из django.views.generic\n",
    "# В классе для DetailView в views.py достаточно указать\n",
    "# модель: \n",
    "# class PostDetailView(DetailView):\n",
    "#    model = Post\n",
    "# В urls.py нужно прописать путь. Сделать это можно, указав\n",
    "# некую переменную в качестве ссылки, например: \n",
    "# path('post/<int:pk>/', PostDetailView.as_view(), name='post-detail')\n",
    "# <int:pk> в данном случае будет PRIMARY_KEY поле в базе данных постов,\n",
    "# как правило, это id. int: перед pk указывает, что это числовое значение.\n",
    "# Таким образом, DetailView (детализированный вид для объекта, например, \n",
    "# для поста) будет доступен по ссылке localhost:8000/post/*id*\n",
    "# Django ищет шаблон для class-based view по конвенции <app>/<model>_<viewtype>.html\n",
    "# Чтобы получить ссылку на DetailView для поста, href должен быть таким:\n",
    "# href=\"{% url 'post-detail' post.id %}\", т.к. post-detail -- имя пути в views.py\n",
    "# post.id -- PRIMARY_KEY переменная"
   ],
   "metadata": {
    "collapsed": false,
    "pycharm": {
     "name": "#%%\n"
    }
   }
  },
  {
   "cell_type": "code",
   "execution_count": null,
   "outputs": [],
   "source": [
    "# CreateView. View с формой, где можно создать новый пост. В классе\n",
    "# в views.py нужно прописать поля, которые будут в этой форме, \n",
    "# например: fields = ['title', 'content']\n",
    "# Шаблон для CreateView имеет вид <app>/<model>_form.html\n",
    "# Этот view имеет общий шаблон с UpdateView\n",
    "# Чтобы добавить какое-то поле для формы, нужно переписать метод\n",
    "# form_valid(self, form) таким образом:\n",
    "# def form_valid(self, form):\n",
    "#     form.instance.author = self.request.user\n",
    "#     return super().form_valid(form)\n",
    "# Здесь я добавил автора для формы для модели Post и запустил\n",
    "# родительский метод с обновлённой формой.\n",
    "# После этого необходимо для модели созданного объекта (Post),\n",
    "# прописать метод def get_absolute_url(self), чтобы Django\n",
    "# знал, куда проводить редирект после отправки формы.\n",
    "# from django.urls import reverse\n",
    "# class Post(models.Model):\n",
    "# ...............\n",
    "# def get_absolute_url(self):\n",
    "#     return reverse('post-detail', kwargs={'pk': self.pk})\n",
    "# reverse() возвращает ссылку на редирект"
   ],
   "metadata": {
    "collapsed": false,
    "pycharm": {
     "name": "#%%\n"
    }
   }
  },
  {
   "cell_type": "code",
   "execution_count": null,
   "outputs": [],
   "source": [
    "# Чтобы невойденный пользователь не мог создать пост или создать объект,\n",
    "# в class-based view класс в views.py для приложения в наследование \n",
    "# добавляется LoginRequiredMixin, который импортируется как\n",
    "# from django.contrib.auth.mixins import LoginRequiredMixin\n",
    "# Класс:\n",
    "# class PostCreateView(LoginRequiredMixin, CreateView):\n",
    "# ........................\n",
    "# \n",
    "\n"
   ],
   "metadata": {
    "collapsed": false,
    "pycharm": {
     "name": "#%%\n"
    }
   }
  },
  {
   "cell_type": "code",
   "execution_count": null,
   "outputs": [],
   "source": [
    "# Чтобы пользователь, не являющийся автором поста, не мог делать в посте\n",
    "# изменения, импортируем UserPassesTestMixin, указываем его в наследовании\n",
    "# для class-based view, в котором нужно прописать булеву функцию,\n",
    "# которую должен успешно пройти юзер для доступа к апдейту:\n",
    "# class PostUpdateView(LoginRequiredMixin, UserPassesTestMixin, UpdateView):\n",
    "# ................................\n",
    "#    def test_func(self):\n",
    "#        post = self.get_object() //возвращает текущий пост, т.к. PostUpdateView работает с моделю Post\n",
    "#        if self.request.user == post.author:\n",
    "#            return True\n",
    "#        else:\n",
    "#            return False"
   ],
   "metadata": {
    "collapsed": false,
    "pycharm": {
     "name": "#%%\n"
    }
   }
  },
  {
   "cell_type": "code",
   "execution_count": null,
   "outputs": [],
   "source": [
    "# DeleteView class-based view нужно добавить поле \n",
    "# success_url, чтобы Django знал, куда перевести пользователя\n",
    "# полсе удаления объекта"
   ],
   "metadata": {
    "collapsed": false,
    "pycharm": {
     "name": "#%%\n"
    }
   }
  },
  {
   "cell_type": "code",
   "execution_count": null,
   "outputs": [],
   "source": [
    "# Разметка страниц (Pagination)\n",
    "# from django.core.paginator import Paginator //объект, делающий Pagination\n",
    "# posts = ['1', '2', '3', '4', '5']\n",
    "# p = Paginator(posts, 2)\n",
    "# p.num_pages //3\n",
    "\n",
    "# p.page_range //range(1, 4)\n",
    "\n",
    "#for page in p.page_range: // 1 2 3\n",
    "#    print(page)\n",
    "#\n",
    "# p1 = p.page(1) //<Page 1 of 3>\n",
    "# p1.number //1\n",
    "# p1.has_previous() //False\n",
    "# p1.has_next() //True\n",
    "# p1.next_page_number() //2\n",
    "# page_obj.paginator.count вернет количество объектов в Paginator в шаблоне\n",
    "# В ListView можно указать поле paginate_by = *число*,\n",
    "# тогда вид будет разделен на страницы по *число* объектов\n",
    "# в каждой. Доступ к другим страницам можно топорно получить\n",
    "# по ссылке /.../?page=2 (или другое число)\n"
   ],
   "metadata": {
    "collapsed": false,
    "pycharm": {
     "name": "#%%\n"
    }
   }
  },
  {
   "cell_type": "code",
   "execution_count": null,
   "outputs": [],
   "source": [
    "# Чтобы отфильтровать посты по автору, можно создать допольнительный view,\n",
    "# базирующийся на ListView как и PostListView, в нем переписать метод\n",
    "# get_queryset на такой: \n",
    "# def get_queryset(self):\n",
    "#     user = get_object_or_404(User, username=self.kwargs.get('username'))\n",
    "#     return Post.objects.filter(author=user).order_by('-date_posted')\n",
    "# предварительно импортировав User в views.py, а также импортировав\n",
    "# from django.shortcuts import get_object_or_404\n",
    "# В urls.py добавить path('user/<str:username>', UserPostListView.as_view(), name='user-posts'),\n",
    "# предварительно импортировав UserPostListView\n",
    "# \n",
    "\n",
    "# Имя пользователя в странице, полученной через view, можно получить так:\n",
    "# <h1>Posts by {{ view.kwargs.username }}</h1>"
   ],
   "metadata": {
    "collapsed": false,
    "pycharm": {
     "name": "#%%\n"
    }
   }
  },
  {
   "cell_type": "code",
   "execution_count": null,
   "outputs": [],
   "source": [
    "# Рест пароля.\n",
    "# В settings.py\n",
    "# EMAIL_BACKEND = 'django.core.mail.backends.smtp.EmailBackend'\n",
    "# EMAIL_HOST ='smtp.gmail.com'\n",
    "# EMAIL_PORT = 587\n",
    "# EMAIL_USE_TLS = True\n",
    "# EMAIL_HOST_USER = os.environ.get(\"EMAIL_USER\") //почта\n",
    "# EMAIL_HOST_PASSWORD = \"*пароль*\"\n",
    "# В urls.py:\n",
    "# path('password-reset/', auth_views.PasswordResetView.as_view(template_name='users/password_reset.html'), name='password_reset'),\n",
    "# path('password-reset/done', auth_views.PasswordResetDoneView.as_view(template_name='users/password_reset_done.html'), name='password_reset_done'),\n",
    "# path('password-reset-confirm/<uidb64>/<token>/', auth_views.PasswordResetConfirmView.as_view(template_name='users/password_reset_confirm.html'), name='password_reset_confirm'),\n",
    "# path('password-reset-complete/', auth_views.PasswordResetCompleteView.as_view(template_name='users/password_reset_complete.html'), name='password_reset_complete'),\n",
    "\n",
    "# Создать все соответствующие шаблоны\n"
   ],
   "metadata": {
    "collapsed": false,
    "pycharm": {
     "name": "#%%\n"
    }
   }
  }
 ],
 "metadata": {
  "kernelspec": {
   "display_name": "Python 3",
   "language": "python",
   "name": "python3"
  },
  "language_info": {
   "codemirror_mode": {
    "name": "ipython",
    "version": 2
   },
   "file_extension": ".py",
   "mimetype": "text/x-python",
   "name": "python",
   "nbconvert_exporter": "python",
   "pygments_lexer": "ipython2",
   "version": "2.7.6"
  },
  "pycharm": {
   "stem_cell": {
    "cell_type": "raw",
    "source": [],
    "metadata": {
     "collapsed": false
    }
   }
  }
 },
 "nbformat": 4,
 "nbformat_minor": 0
}