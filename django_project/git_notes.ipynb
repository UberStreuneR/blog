{
 "cells": [
  {
   "cell_type": "code",
   "execution_count": null,
   "metadata": {
    "collapsed": true
   },
   "outputs": [],
   "source": [
    "\n",
    "# Terminal commands:\n",
    "# \tdir - lists all of the folders \n",
    "# \tdir /s - lists all of the files (/b no heading information, /o order, :gn g sorts by folders, n puts alphabetically)\n",
    "# \tcd .. - returns one dir back \n",
    "# \tcd - enters a directory\n",
    "# \t. - just install in the current directory \n",
    "#   rd /s /q .git - complete blow away of a .git repo (cd should be one dir above)\n",
    "#\n",
    "# On initial install:\n",
    "# \tgit --version - checks the version of the installed locally git\n",
    "# \tgit config --global user.name \"Your Name\" - sets up the name of the user \n",
    "# \tgit config --global user.email \"yourname@somemail.eu\" - sets up the mail of the user\n",
    "# \tgit config --list - lists all the git configurations\n",
    "# \t\n",
    "# For help on commands:\n",
    "# \tgit help <verb> (e.g. git help config) OR \n",
    "# \tgit <verb> --help \n",
    "# \t\n",
    "# For initializing the project:\n",
    "# \tgit init - initializes the git repo in the current folder\n",
    "# \ttouch .gitignore - creates a git ignore file\n",
    "# \tgit status - check working tree - both on the git and on local \n",
    "# \n",
    "# Add files:\n",
    "# \tgit add -A - adds all of the files for committing\n",
    "# \tgit add *path_to_file* - adds file\n",
    "# \tremember - git status - to check the state of the repo \n",
    "# \t\n",
    "# Remove files: \n",
    "# \tgit reset - removes files to be committed \n",
    "# \tgit reset somefile.js - removes somefile.js from the commit preparation\n",
    "# \t\n",
    "# Committing:\n",
    "# \tgit commit -m \"This is the commit message\" - -m is used to add message\n",
    "# \t\n",
    "# Check log:\n",
    "# \tgit log - renders commit ids, authors, dates\n",
    "# \t\n",
    "# Clone a remote repo:\n",
    "# \tgit clone <url> <where to clone>\n",
    "# \n",
    "# View info about the repo:\n",
    "# \tgit remote -v - lists info about the remote repo\n",
    "# \tgit branch -a - lists all of the branches\n",
    "# \n",
    "# View changes:\n",
    "# \tgit diff - shows the difference made in the files\n",
    "# \t\n",
    "# Pull before push ALWAYS:\n",
    "# \tgit pull origin master //shows all changes done since last pull\n",
    "# \t\n",
    "# THEN PUSH:\n",
    "# \tgit push origin master - <origin> name of remote repo <master> the branch that we push to \n",
    "# \t\n",
    "# First time push of the branch:\n",
    "# \tgit push -u origin <name of the branch> - -u coordinates the two branches (local and on server)\n",
    "# \t\n",
    "# Create a branch:\n",
    "# \tgit branch <name of the branch>\n",
    "# \n",
    "# Checkout a branch:\n",
    "# \tgit checkout <name of the branch>\n",
    "# \n",
    "# Merge a branch:\n",
    "# \tgit checkout master\n",
    "# \tgit pull origin master\n",
    "# \tgit branch --merged - see which branches are merged \n",
    "# \tgit merge <name of the branch you want to merge>\n",
    "# \tgit push origin master \n",
    "# \n",
    "# Delete a branch:\n",
    "# \tgit branch -d <name of the branch> - this deletes it locally!!!\n",
    "# \tgit branch -a - check the repo branches \n",
    "# \tgit push origin --delete <name of the branch> - this deletes it from the repo!\n",
    "# \n",
    "# \n",
    "# "
   ]
  }
 ],
 "metadata": {
  "kernelspec": {
   "display_name": "Python 3",
   "language": "python",
   "name": "python3"
  },
  "language_info": {
   "codemirror_mode": {
    "name": "ipython",
    "version": 2
   },
   "file_extension": ".py",
   "mimetype": "text/x-python",
   "name": "python",
   "nbconvert_exporter": "python",
   "pygments_lexer": "ipython2",
   "version": "2.7.6"
  },
  "pycharm": {
   "stem_cell": {
    "cell_type": "raw",
    "source": [],
    "metadata": {
     "collapsed": false
    }
   }
  }
 },
 "nbformat": 4,
 "nbformat_minor": 0
}